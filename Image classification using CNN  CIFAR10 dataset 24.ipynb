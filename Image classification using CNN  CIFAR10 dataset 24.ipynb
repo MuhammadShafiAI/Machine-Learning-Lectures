{
 "cells": [
  {
   "cell_type": "code",
   "execution_count": 4,
   "id": "9714450d",
   "metadata": {},
   "outputs": [],
   "source": [
    "import tensorflow as tf\n",
    "from tensorflow.keras import datasets,models,layers\n",
    "import matplotlib.pyplot as plt\n",
    "import numpy as np"
   ]
  },
  {
   "cell_type": "code",
   "execution_count": 16,
   "id": "f5874f54",
   "metadata": {},
   "outputs": [
    {
     "data": {
      "text/plain": [
       "(50000, 32, 32, 3)"
      ]
     },
     "execution_count": 16,
     "metadata": {},
     "output_type": "execute_result"
    }
   ],
   "source": [
    "(X_train,y_train),(X_test,y_test) =datasets.cifar10.load_data()\n",
    "X_train.shape"
   ]
  },
  {
   "cell_type": "code",
   "execution_count": 17,
   "id": "223f8ecc",
   "metadata": {},
   "outputs": [
    {
     "data": {
      "text/plain": [
       "(10000, 32, 32, 3)"
      ]
     },
     "execution_count": 17,
     "metadata": {},
     "output_type": "execute_result"
    }
   ],
   "source": [
    "x_test.shape"
   ]
  },
  {
   "cell_type": "code",
   "execution_count": 18,
   "id": "fd8a0f15",
   "metadata": {},
   "outputs": [
    {
     "data": {
      "text/plain": [
       "array([[6],\n",
       "       [9],\n",
       "       [9],\n",
       "       [4],\n",
       "       [1]], dtype=uint8)"
      ]
     },
     "execution_count": 18,
     "metadata": {},
     "output_type": "execute_result"
    }
   ],
   "source": [
    "y_train[:5]"
   ]
  },
  {
   "cell_type": "code",
   "execution_count": 19,
   "id": "4af14190",
   "metadata": {},
   "outputs": [
    {
     "data": {
      "text/plain": [
       "array([6, 9, 9, 4, 1], dtype=uint8)"
      ]
     },
     "execution_count": 19,
     "metadata": {},
     "output_type": "execute_result"
    }
   ],
   "source": [
    "# _train is a 2D array, for our classification having 1D array is good enough. so we will convert this to now 1D array?\n",
    "\n",
    "\n",
    "y_train = y_train.reshape(-1,)\n",
    "y_train[:5]\n",
    "\n"
   ]
  },
  {
   "cell_type": "code",
   "execution_count": 20,
   "id": "0a476238",
   "metadata": {},
   "outputs": [],
   "source": [
    "\n",
    "\n",
    "y_test = y_test.reshape(-1,)\n",
    "\n"
   ]
  },
  {
   "cell_type": "code",
   "execution_count": 21,
   "id": "0a9d2303",
   "metadata": {},
   "outputs": [],
   "source": [
    "classes = [\"airplane\",\"automobile\",\"bird\",\"cat\",\"deer\",\"dog\",\"frog\",\"horse\",\"ship\",\"truck\"]"
   ]
  },
  {
   "cell_type": "code",
   "execution_count": 22,
   "id": "59df231a",
   "metadata": {},
   "outputs": [],
   "source": [
    "# Let's plot some images to see what they are?\n",
    "def plot_sample(X, y, index):\n",
    "    plt.figure(figsize = (15,2))\n",
    "    plt.imshow(X[index])\n",
    "    plt.xlabel(classes[y[index]])"
   ]
  },
  {
   "cell_type": "code",
   "execution_count": 23,
   "id": "4b0b7172",
   "metadata": {},
   "outputs": [
    {
     "data": {
      "image/png": "[encoded data removed]",
      "text/plain": [
       "<Figure size 1080x144 with 1 Axes>"
      ]
     },
     "metadata": {
      "needs_background": "light"
     },
     "output_type": "display_data"
    }
   ],
   "source": [
    "plot_sample(X_train,y_train,3)"
   ]
  },
  {
   "cell_type": "code",
   "execution_count": 24,
   "id": "ae5218a5",
   "metadata": {},
   "outputs": [],
   "source": [
    "# Normalize the images to a number from 0 to 1. Image has 3 channels (R,G,B) and each value in the channel can range from 0 to\n",
    "# 255. Hence to normalize in 0-->1 range, we need to divide it by 255\n",
    "\n"
   ]
  },
  {
   "cell_type": "markdown",
   "id": "1d1c9ab6",
   "metadata": {},
   "source": [
    "###### Normalizing the training data"
   ]
  },
  {
   "cell_type": "code",
   "execution_count": 25,
   "id": "3db0eeea",
   "metadata": {},
   "outputs": [],
   "source": [
    "X_train = X_train / 255.0\n",
    "X_test = X_test / 255.0"
   ]
  },
  {
   "cell_type": "markdown",
   "id": "f7552240",
   "metadata": {},
   "source": [
    "##### Build simple artificial neural network for image classification"
   ]
  },
  {
   "cell_type": "code",
   "execution_count": 30,
   "id": "bdc6b3a4",
   "metadata": {},
   "outputs": [
    {
     "name": "stdout",
     "output_type": "stream",
     "text": [
      "Epoch 1/5\n",
      "1563/1563 [==============================] - 123s 76ms/step - loss: 1.8124 - accuracy: 0.3557\n",
      "Epoch 2/5\n",
      "1563/1563 [==============================] - 107s 68ms/step - loss: 1.6240 - accuracy: 0.4290\n",
      "Epoch 3/5\n",
      "1563/1563 [==============================] - 108s 69ms/step - loss: 1.5414 - accuracy: 0.4540\n",
      "Epoch 4/5\n",
      "1563/1563 [==============================] - 107s 68ms/step - loss: 1.4801 - accuracy: 0.4798\n",
      "Epoch 5/5\n",
      "1563/1563 [==============================] - 108s 69ms/step - loss: 1.4311 - accuracy: 0.4969\n"
     ]
    },
    {
     "data": {
      "text/plain": [
       "<keras.callbacks.History at 0x15d2033ef10>"
      ]
     },
     "execution_count": 30,
     "metadata": {},
     "output_type": "execute_result"
    }
   ],
   "source": [
    "ann=models.Sequential([\n",
    "    layers.Flatten(input_shape=(32,32,3)),\n",
    "    layers.Dense(3000,activation='relu'),\n",
    "    layers.Dense(1000,activation='relu'),\n",
    "    layers.Dense(10,activation='softmax')\n",
    "    \n",
    "])\n",
    "ann.compile(optimizer='SGD',\n",
    "              loss='sparse_categorical_crossentropy',\n",
    "              metrics=['accuracy'])\n",
    "\n",
    "ann.fit(X_train, y_train, epochs=5)"
   ]
  },
  {
   "cell_type": "markdown",
   "id": "9dc1a033",
   "metadata": {},
   "source": [
    "###### You can see that at the end of 5 epochs, accuracy is at around 49%"
   ]
  },
  {
   "cell_type": "code",
   "execution_count": 31,
   "id": "c01ee4fa",
   "metadata": {},
   "outputs": [
    {
     "name": "stdout",
     "output_type": "stream",
     "text": [
      "313/313 [==============================] - 6s 17ms/step\n",
      "Classification Report: \n",
      "               precision    recall  f1-score   support\n",
      "\n",
      "           0       0.65      0.44      0.52      1000\n",
      "           1       0.62      0.51      0.56      1000\n",
      "           2       0.38      0.36      0.37      1000\n",
      "           3       0.37      0.27      0.31      1000\n",
      "           4       0.46      0.35      0.40      1000\n",
      "           5       0.39      0.37      0.38      1000\n",
      "           6       0.44      0.67      0.53      1000\n",
      "           7       0.69      0.39      0.50      1000\n",
      "           8       0.67      0.52      0.59      1000\n",
      "           9       0.34      0.79      0.48      1000\n",
      "\n",
      "    accuracy                           0.47     10000\n",
      "   macro avg       0.50      0.47      0.46     10000\n",
      "weighted avg       0.50      0.47      0.46     10000\n",
      "\n"
     ]
    }
   ],
   "source": [
    "\n",
    "\n",
    "from sklearn.metrics import confusion_matrix , classification_report\n",
    "import numpy as np\n",
    "y_pred = ann.predict(X_test)\n",
    "y_pred_classes = [np.argmax(element) for element in y_pred]\n",
    "\n",
    "print(\"Classification Report: \\n\", classification_report(y_test, y_pred_classes))\n",
    "\n"
   ]
  },
  {
   "cell_type": "markdown",
   "id": "3b1ee96d",
   "metadata": {},
   "source": [
    "###### Now let us build a convolutional neural network to train our images"
   ]
  },
  {
   "cell_type": "code",
   "execution_count": 33,
   "id": "2c7a24ff",
   "metadata": {},
   "outputs": [],
   "source": [
    "cnn = models.Sequential([\n",
    "    layers.Conv2D(filters=32, kernel_size=(3, 3), activation='relu', input_shape=(32, 32, 3)),\n",
    "    layers.MaxPooling2D((2, 2)),\n",
    "    \n",
    "    layers.Conv2D(filters=64, kernel_size=(3, 3), activation='relu'),\n",
    "    layers.MaxPooling2D((2, 2)),\n",
    "    \n",
    "    layers.Flatten(),\n",
    "    layers.Dense(64, activation='relu'),\n",
    "    layers.Dense(10, activation='softmax')\n",
    "])"
   ]
  },
  {
   "cell_type": "code",
   "execution_count": 34,
   "id": "4d1cebdb",
   "metadata": {},
   "outputs": [],
   "source": [
    "\n",
    "\n",
    "cnn.compile(optimizer='adam',\n",
    "              loss='sparse_categorical_crossentropy',\n",
    "              metrics=['accuracy'])\n",
    "\n"
   ]
  },
  {
   "cell_type": "code",
   "execution_count": 35,
   "id": "0cd15cde",
   "metadata": {},
   "outputs": [
    {
     "name": "stdout",
     "output_type": "stream",
     "text": [
      "Epoch 1/10\n",
      "1563/1563 [==============================] - 75s 46ms/step - loss: 1.4477 - accuracy: 0.4804\n",
      "Epoch 2/10\n",
      "1563/1563 [==============================] - 78s 50ms/step - loss: 1.0982 - accuracy: 0.6178\n",
      "Epoch 3/10\n",
      "1563/1563 [==============================] - 77s 50ms/step - loss: 0.9749 - accuracy: 0.6623\n",
      "Epoch 4/10\n",
      "1563/1563 [==============================] - 73s 47ms/step - loss: 0.8846 - accuracy: 0.6942\n",
      "Epoch 5/10\n",
      "1563/1563 [==============================] - 77s 49ms/step - loss: 0.8193 - accuracy: 0.7159\n",
      "Epoch 6/10\n",
      "1563/1563 [==============================] - 73s 47ms/step - loss: 0.7675 - accuracy: 0.7363\n",
      "Epoch 7/10\n",
      "1563/1563 [==============================] - 74s 48ms/step - loss: 0.7185 - accuracy: 0.7514\n",
      "Epoch 8/10\n",
      "1563/1563 [==============================] - 77s 49ms/step - loss: 0.6773 - accuracy: 0.7657\n",
      "Epoch 9/10\n",
      "1563/1563 [==============================] - 65s 41ms/step - loss: 0.6384 - accuracy: 0.7781\n",
      "Epoch 10/10\n",
      "1563/1563 [==============================] - 64s 41ms/step - loss: 0.5985 - accuracy: 0.7920\n"
     ]
    },
    {
     "data": {
      "text/plain": [
       "<keras.callbacks.History at 0x15d2286ad30>"
      ]
     },
     "execution_count": 35,
     "metadata": {},
     "output_type": "execute_result"
    }
   ],
   "source": [
    "cnn.fit(X_train, y_train, epochs=10)"
   ]
  },
  {
   "cell_type": "markdown",
   "id": "7a7446fa",
   "metadata": {},
   "source": [
    "With CNN, at the end 5 epochs, accuracy was at around 70% which is a significant improvement over ANN. \n",
    "CNN's are best for image classification and gives superb accuracy. Also computation is much less compared\n",
    "to simple ANN as maxpooling reduces the image dimensions while still preserving the features\n"
   ]
  },
  {
   "cell_type": "code",
   "execution_count": 36,
   "id": "4efe181c",
   "metadata": {},
   "outputs": [
    {
     "name": "stdout",
     "output_type": "stream",
     "text": [
      "313/313 [==============================] - 7s 14ms/step - loss: 0.9128 - accuracy: 0.6985\n"
     ]
    },
    {
     "data": {
      "text/plain": [
       "[0.9128203988075256, 0.6984999775886536]"
      ]
     },
     "execution_count": 36,
     "metadata": {},
     "output_type": "execute_result"
    }
   ],
   "source": [
    "cnn.evaluate(X_test,y_test)"
   ]
  },
  {
   "cell_type": "code",
   "execution_count": 37,
   "id": "f6d64fdb",
   "metadata": {},
   "outputs": [
    {
     "name": "stdout",
     "output_type": "stream",
     "text": [
      "313/313 [==============================] - 6s 18ms/step\n"
     ]
    },
    {
     "data": {
      "text/plain": [
       "array([[2.46418151e-03, 2.55366704e-05, 7.85763143e-04, 7.94237375e-01,\n",
       "        1.47289643e-03, 1.96434483e-01, 2.93997908e-03, 1.20078119e-04,\n",
       "        7.13962654e-04, 8.05870804e-04],\n",
       "       [4.90460196e-04, 8.68164748e-02, 2.33647756e-06, 1.11057682e-06,\n",
       "        1.49417872e-07, 4.66040895e-09, 3.29715206e-08, 6.70677824e-09,\n",
       "        9.12653685e-01, 3.56851269e-05],\n",
       "       [3.27941358e-01, 1.11901954e-01, 1.21901359e-03, 1.22766737e-02,\n",
       "        2.92972988e-03, 1.70037872e-03, 6.52551325e-03, 4.17586276e-03,\n",
       "        4.67781931e-01, 6.35475293e-02],\n",
       "       [9.50140178e-01, 7.56691024e-03, 1.58773444e-03, 2.42678128e-04,\n",
       "        2.75500381e-04, 1.23902655e-05, 3.37150705e-05, 1.37563511e-05,\n",
       "        4.01229374e-02, 4.37961080e-06],\n",
       "       [8.52701803e-08, 3.58550551e-07, 1.22918244e-02, 2.52794493e-02,\n",
       "        1.89980850e-01, 7.02501624e-04, 7.71744370e-01, 6.67133051e-08,\n",
       "        5.08843129e-07, 7.96823940e-09]], dtype=float32)"
      ]
     },
     "execution_count": 37,
     "metadata": {},
     "output_type": "execute_result"
    }
   ],
   "source": [
    "\n",
    "\n",
    "y_pred = cnn.predict(X_test)\n",
    "y_pred[:5]\n",
    "\n"
   ]
  },
  {
   "cell_type": "code",
   "execution_count": 38,
   "id": "b3422372",
   "metadata": {},
   "outputs": [
    {
     "data": {
      "text/plain": [
       "[3, 8, 8, 0, 6]"
      ]
     },
     "execution_count": 38,
     "metadata": {},
     "output_type": "execute_result"
    }
   ],
   "source": [
    "\n",
    "\n",
    "y_classes = [np.argmax(element) for element in y_pred]\n",
    "y_classes[:5]\n",
    "\n"
   ]
  },
  {
   "cell_type": "code",
   "execution_count": 39,
   "id": "1e47fc2a",
   "metadata": {},
   "outputs": [
    {
     "data": {
      "text/plain": [
       "array([3, 8, 8, 0, 6], dtype=uint8)"
      ]
     },
     "execution_count": 39,
     "metadata": {},
     "output_type": "execute_result"
    }
   ],
   "source": [
    "\n",
    "\n",
    "y_test[:5]\n",
    "\n"
   ]
  },
  {
   "cell_type": "code",
   "execution_count": 40,
   "id": "7b2ee158",
   "metadata": {},
   "outputs": [
    {
     "data": {
      "image/png": "[encoded data removed]",
      "text/plain": [
       "<Figure size 1080x144 with 1 Axes>"
      ]
     },
     "metadata": {
      "needs_background": "light"
     },
     "output_type": "display_data"
    }
   ],
   "source": [
    "plot_sample(X_test, y_test,3)"
   ]
  },
  {
   "cell_type": "code",
   "execution_count": 44,
   "id": "2c1993c2",
   "metadata": {},
   "outputs": [
    {
     "data": {
      "text/plain": [
       "'frog'"
      ]
     },
     "execution_count": 44,
     "metadata": {},
     "output_type": "execute_result"
    }
   ],
   "source": [
    "\n",
    "\n",
    "classes[y_classes[7]]\n",
    "\n"
   ]
  },
  {
   "cell_type": "code",
   "execution_count": 43,
   "id": "13cae2ca",
   "metadata": {},
   "outputs": [
    {
     "data": {
      "text/plain": [
       "'frog'"
      ]
     },
     "execution_count": 43,
     "metadata": {},
     "output_type": "execute_result"
    }
   ],
   "source": [
    "\n",
    "\n",
    "classes[y_classes[7]]\n",
    "\n"
   ]
  },
  {
   "cell_type": "code",
   "execution_count": null,
   "id": "b6f387ec",
   "metadata": {},
   "outputs": [],
   "source": []
  }
 ],
 "metadata": {
  "kernelspec": {
   "display_name": "Python 3 (ipykernel)",
   "language": "python",
   "name": "python3"
  },
  "language_info": {
   "codemirror_mode": {
    "name": "ipython",
    "version": 3
   },
   "file_extension": ".py",
   "mimetype": "text/x-python",
   "name": "python",
   "nbconvert_exporter": "python",
   "pygments_lexer": "ipython3",
   "version": "3.9.7"
  }
 },
 "nbformat": 4,
 "nbformat_minor": 5
}
