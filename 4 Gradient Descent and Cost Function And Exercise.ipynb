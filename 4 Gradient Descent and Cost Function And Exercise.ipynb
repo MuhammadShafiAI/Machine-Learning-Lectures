{
 "cells": [
  {
   "cell_type": "code",
   "execution_count": null,
   "id": "07e1e2cb",
   "metadata": {},
   "outputs": [],
   "source": [
    "import numpy as np\n",
    "\n",
    "def gradient_descent(x,y):\n",
    "    m_curr = b_curr =0\n",
    "    iterations=1000\n",
    "    n =len(x)\n",
    "    learning_rate =0.001\n",
    "    \n",
    "    for i in range(iterations):\n",
    "        y_predicted = m_curr * x + b_curr\n",
    "        md= -(2/n)*sum(x*(y-y_predicted))\n",
    "        bd= -(2/n)*sum((y-y_predicted))\n",
    "        m_curr =m_curr-learning_rate"
   ]
  }
 ],
 "metadata": {
  "kernelspec": {
   "display_name": "Python 3 (ipykernel)",
   "language": "python",
   "name": "python3"
  },
  "language_info": {
   "codemirror_mode": {
    "name": "ipython",
    "version": 3
   },
   "file_extension": ".py",
   "mimetype": "text/x-python",
   "name": "python",
   "nbconvert_exporter": "python",
   "pygments_lexer": "ipython3",
   "version": "3.9.7"
  }
 },
 "nbformat": 4,
 "nbformat_minor": 5
}
